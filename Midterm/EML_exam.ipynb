{
 "cells": [
  {
   "cell_type": "code",
   "execution_count": 1,
   "metadata": {},
   "outputs": [
    {
     "name": "stderr",
     "output_type": "stream",
     "text": [
      "Using TensorFlow backend.\n"
     ]
    }
   ],
   "source": [
    "import tensorflow as tf\n",
    "from tensorflow import keras\n",
    "from keras.models import Sequential\n",
    "from keras.layers import Dense\n",
    "import csv \n",
    "import pandas as pd\n",
    "import numpy as np\n",
    "import matplotlib.pyplot as plt\n",
    "import pickle\n",
    "import random\n",
    "from keras.layers import Concatenate, concatenate\n",
    "from keras.layers.normalization import BatchNormalization\n",
    "import numpy as np\n",
    "import h5py\n",
    "from sklearn.metrics import accuracy_score\n",
    "from sklearn.utils import shuffle\n",
    "from sklearn import preprocessing\n",
    "from sklearn.model_selection import train_test_split"
   ]
  },
  {
   "cell_type": "code",
   "execution_count": null,
   "metadata": {},
   "outputs": [],
   "source": []
  },
  {
   "cell_type": "code",
   "execution_count": null,
   "metadata": {},
   "outputs": [],
   "source": []
  },
  {
   "cell_type": "code",
   "execution_count": 2,
   "metadata": {},
   "outputs": [],
   "source": [
    "df = pd.read_csv('../input/heartcsv/heart.csv')\n",
    "df = shuffle(df)"
   ]
  },
  {
   "cell_type": "code",
   "execution_count": 3,
   "metadata": {},
   "outputs": [
    {
     "name": "stdout",
     "output_type": "stream",
     "text": [
      "     age  sex  cp  trestbps  chol  fbs  restecg  thalach  exang  oldpeak  \\\n",
      "194   60    1   2       140   185    0        0      155      0      3.0   \n",
      "132   42    1   1       120   295    0        1      162      0      0.0   \n",
      "239   35    1   0       126   282    0        0      156      1      0.0   \n",
      "68    44    1   1       120   220    0        1      170      0      0.0   \n",
      "115   37    0   2       120   215    0        1      170      0      0.0   \n",
      "..   ...  ...  ..       ...   ...  ...      ...      ...    ...      ...   \n",
      "301   57    1   0       130   131    0        1      115      1      1.2   \n",
      "177   64    1   2       140   335    0        1      158      0      0.0   \n",
      "274   47    1   0       110   275    0        0      118      1      1.0   \n",
      "251   43    1   0       132   247    1        0      143      1      0.1   \n",
      "181   65    0   0       150   225    0        0      114      0      1.0   \n",
      "\n",
      "     slope  ca  thal  target  \n",
      "194      1   0     2       0  \n",
      "132      2   0     2       1  \n",
      "239      2   0     3       0  \n",
      "68       2   0     2       1  \n",
      "115      2   0     2       1  \n",
      "..     ...  ..   ...     ...  \n",
      "301      1   1     3       0  \n",
      "177      2   0     2       0  \n",
      "274      1   1     2       0  \n",
      "251      1   4     3       0  \n",
      "181      1   3     3       0  \n",
      "\n",
      "[303 rows x 14 columns]\n"
     ]
    }
   ],
   "source": [
    "print(df)"
   ]
  },
  {
   "cell_type": "code",
   "execution_count": 4,
   "metadata": {},
   "outputs": [],
   "source": [
    "dataset = df.values"
   ]
  },
  {
   "cell_type": "code",
   "execution_count": 5,
   "metadata": {},
   "outputs": [],
   "source": [
    "X = dataset[:,0:13]\n",
    "Y = dataset[:,13]"
   ]
  },
  {
   "cell_type": "code",
   "execution_count": 6,
   "metadata": {},
   "outputs": [],
   "source": [
    "X = preprocessing.normalize(X)"
   ]
  },
  {
   "cell_type": "code",
   "execution_count": 7,
   "metadata": {},
   "outputs": [
    {
     "data": {
      "text/plain": [
       "array([0., 1., 0., 1., 1., 1., 1., 0., 1., 0., 0., 1., 1., 1., 0., 0., 1.,\n",
       "       1., 0., 1., 1., 1., 0., 1., 0., 0., 1., 0., 1., 1., 0., 0., 0., 1.,\n",
       "       1., 0., 1., 1., 0., 0., 1., 0., 1., 1., 1., 0., 0., 0., 1., 0., 1.,\n",
       "       1., 0., 0., 1., 1., 1., 1., 1., 0., 0., 0., 1., 1., 1., 0., 1., 1.,\n",
       "       1., 0., 1., 0., 0., 0., 0., 1., 1., 0., 1., 1., 0., 1., 1., 1., 0.,\n",
       "       1., 0., 0., 1., 0., 1., 0., 0., 0., 1., 1., 1., 0., 1., 0., 1., 1.,\n",
       "       0., 1., 0., 0., 1., 1., 1., 1., 0., 0., 0., 0., 1., 1., 1., 1., 1.,\n",
       "       0., 1., 1., 0., 0., 1., 0., 1., 0., 1., 0., 0., 1., 1., 1., 0., 1.,\n",
       "       0., 0., 0., 1., 1., 1., 0., 0., 0., 0., 0., 0., 1., 0., 1., 0., 0.,\n",
       "       0., 0., 1., 1., 0., 1., 1., 0., 0., 0., 1., 0., 1., 1., 1., 0., 1.,\n",
       "       0., 1., 0., 0., 0., 0., 1., 0., 1., 1., 0., 1., 1., 0., 0., 1., 1.,\n",
       "       1., 0., 1., 1., 0., 0., 1., 1., 1., 1., 1., 1., 0., 1., 0., 0., 1.,\n",
       "       1., 0., 0., 0., 1., 0., 1., 1., 1., 0., 1., 1., 0., 0., 1., 1., 0.,\n",
       "       0., 1., 1., 1., 0., 1., 1., 1., 1., 0., 0., 1., 0., 0., 1., 1., 0.,\n",
       "       1., 0., 1., 0., 0., 0., 0., 1., 1., 1., 0., 0., 1., 0., 1., 1., 0.,\n",
       "       1., 1., 1., 1., 0., 1., 0., 1., 1., 1., 0., 0., 1., 1., 1., 1., 0.,\n",
       "       1., 0., 1., 1., 1., 0., 0., 1., 0., 0., 1., 1., 1., 1., 1., 0., 1.,\n",
       "       0., 1., 1., 0., 1., 1., 1., 1., 0., 0., 0., 0., 0., 0.])"
      ]
     },
     "execution_count": 7,
     "metadata": {},
     "output_type": "execute_result"
    }
   ],
   "source": [
    "Y"
   ]
  },
  {
   "cell_type": "code",
   "execution_count": 8,
   "metadata": {},
   "outputs": [],
   "source": [
    "X_train, X_test, y_train, y_test = train_test_split(X, Y)"
   ]
  },
  {
   "cell_type": "code",
   "execution_count": 9,
   "metadata": {},
   "outputs": [
    {
     "name": "stdout",
     "output_type": "stream",
     "text": [
      "Model: \"sequential_1\"\n",
      "_________________________________________________________________\n",
      "Layer (type)                 Output Shape              Param #   \n",
      "=================================================================\n",
      "dense_1 (Dense)              (None, 26)                364       \n",
      "_________________________________________________________________\n",
      "dense_2 (Dense)              (None, 1)                 27        \n",
      "=================================================================\n",
      "Total params: 391\n",
      "Trainable params: 391\n",
      "Non-trainable params: 0\n",
      "_________________________________________________________________\n"
     ]
    }
   ],
   "source": [
    "model = Sequential()\n",
    "model.add(Dense(26, activation='sigmoid', input_shape=(13,)))\n",
    "model.add(Dense(1, activation='sigmoid'))\n",
    "model.summary()"
   ]
  },
  {
   "cell_type": "code",
   "execution_count": 10,
   "metadata": {},
   "outputs": [],
   "source": [
    "model.compile( optimizer = 'rmsprop', loss='binary_crossentropy', metrics=['accuracy'] )\n"
   ]
  },
  {
   "cell_type": "code",
   "execution_count": 11,
   "metadata": {
    "scrolled": true
   },
   "outputs": [
    {
     "name": "stdout",
     "output_type": "stream",
     "text": [
      "Epoch 1/10\n",
      "227/227 [==============================] - 1s 6ms/step - loss: 0.6915 - accuracy: 0.5286\n",
      "Epoch 2/10\n",
      "227/227 [==============================] - 0s 726us/step - loss: 0.6895 - accuracy: 0.5419\n",
      "Epoch 3/10\n",
      "227/227 [==============================] - 0s 768us/step - loss: 0.6894 - accuracy: 0.5419\n",
      "Epoch 4/10\n",
      "227/227 [==============================] - 0s 869us/step - loss: 0.6884 - accuracy: 0.5419\n",
      "Epoch 5/10\n",
      "227/227 [==============================] - 0s 711us/step - loss: 0.6882 - accuracy: 0.5419\n",
      "Epoch 6/10\n",
      "227/227 [==============================] - 0s 686us/step - loss: 0.6882 - accuracy: 0.5419\n",
      "Epoch 7/10\n",
      "227/227 [==============================] - 0s 783us/step - loss: 0.6872 - accuracy: 0.5419\n",
      "Epoch 8/10\n",
      "227/227 [==============================] - 0s 1ms/step - loss: 0.6875 - accuracy: 0.5419\n",
      "Epoch 9/10\n",
      "227/227 [==============================] - 0s 692us/step - loss: 0.6863 - accuracy: 0.5419\n",
      "Epoch 10/10\n",
      "227/227 [==============================] - 0s 709us/step - loss: 0.6863 - accuracy: 0.5419\n"
     ]
    }
   ],
   "source": [
    "hist = model.fit(X_train, y_train, batch_size=4, epochs=10,shuffle=True)"
   ]
  },
  {
   "cell_type": "code",
   "execution_count": 12,
   "metadata": {},
   "outputs": [
    {
     "name": "stdout",
     "output_type": "stream",
     "text": [
      "76/76 [==============================] - 0s 443us/step\n"
     ]
    },
    {
     "data": {
      "text/plain": [
       "0.5526315569877625"
      ]
     },
     "execution_count": 12,
     "metadata": {},
     "output_type": "execute_result"
    }
   ],
   "source": [
    "model.evaluate(X_test, y_test)[1]\n"
   ]
  },
  {
   "cell_type": "code",
   "execution_count": 13,
   "metadata": {
    "scrolled": false
   },
   "outputs": [
    {
     "data": {
      "image/png": "[encoded data removed]",
      "text/plain": [
       "<Figure size 432x288 with 1 Axes>"
      ]
     },
     "metadata": {
      "needs_background": "light"
     },
     "output_type": "display_data"
    }
   ],
   "source": [
    "import matplotlib.pyplot as plt\n",
    "plt.plot(hist.history['loss'])\n",
    "plt.title('Model loss')\n",
    "plt.ylabel('Loss')\n",
    "plt.xlabel('Epoch')\n",
    "plt.legend(['Train', 'Val'], loc='upper right')\n",
    "plt.show()\n"
   ]
  },
  {
   "cell_type": "code",
   "execution_count": 14,
   "metadata": {
    "scrolled": true
   },
   "outputs": [
    {
     "name": "stdout",
     "output_type": "stream",
     "text": [
      "\n",
      "Test accuracy: 0.5526315569877625\n",
      "\n",
      " Test loss:  0.6819725883634467\n"
     ]
    }
   ],
   "source": [
    "test_loss, test_acc = model.evaluate(X_test,  y_test, verbose=2)\n",
    "\n",
    "print('\\nTest accuracy:', test_acc)\n",
    "print('\\n Test loss: ', test_loss)\n"
   ]
  },
  {
   "cell_type": "code",
   "execution_count": 37,
   "metadata": {},
   "outputs": [],
   "source": [
    "from sklearn.metrics import confusion_matrix "
   ]
  },
  {
   "cell_type": "code",
   "execution_count": 41,
   "metadata": {},
   "outputs": [],
   "source": [
    "class NeuralNetwork(Sequential):\n",
    "    \n",
    "    def __init__(self, child_weights=None):\n",
    "        super().__init__()\n",
    "        if child_weights is None:\n",
    "            layer1 = Dense(26, input_shape=(13,), activation='sigmoid')\n",
    "            layer2 = Dense(1, activation='sigmoid')\n",
    "            self.add(layer1)\n",
    "            self.add(layer2)\n",
    "        else:\n",
    "            self.add(\n",
    "                Dense(\n",
    "                    26,\n",
    "                    input_shape=(13,),\n",
    "                    activation='sigmoid',\n",
    "                    weights=[child_weights[0], np.zeros(26)])\n",
    "                )\n",
    "            self.add(\n",
    "                Dense(\n",
    "                 1,\n",
    "                 activation='sigmoid',\n",
    "                 weights=[child_weights[1], np.zeros(1)])\n",
    "            )\n",
    "\n",
    "#     def forward_propagation(self, X_train, y_train):\n",
    "#         y_hat = self.predict(X_train)\n",
    "#         self.fitness = accuracy_score(y_train, y_hat.round())\n",
    "\n",
    "    def compile_train(self, epochs):\n",
    "        self.compile(\n",
    "                      optimizer='rmsprop',\n",
    "                      loss='binary_crossentropy',\n",
    "                      metrics=['accuracy']\n",
    "                      )\n",
    "        self.fit(X_train, y_train, epochs=epochs)\n",
    "\n",
    "    #Midterm change\n",
    "    def forward_propagation(self, X_train, y_train):\n",
    "        y_hat = self.predict(X_train)\n",
    "        # Compute fitness score\n",
    "        confusionMatrix = confusion_matrix(y_train,y_hat.round())\n",
    "        a = confusionMatrix[0][1]\n",
    "        b = confusionMatrix[1][0]\n",
    "        self.fitness = calculateFitness(N1, N2, a, b)\n",
    "\n",
    "        \n"
   ]
  },
  {
   "cell_type": "code",
   "execution_count": 42,
   "metadata": {},
   "outputs": [],
   "source": [
    "def calculateFitness(N1, N2, a, b):\n",
    "        return (N1 + N2) / (1 + a*N2 + b*N1)\n",
    "    \n",
    "def mutation(child_weights):\n",
    "    selection = random.randint(0, len(child_weights)-1)\n",
    "    mut = random.uniform(0, 1)\n",
    "    if mut >= .5:\n",
    "        child_weights[selection] *= random.randint(2, 5)\n",
    "    else:\n",
    "        pass\n",
    "    \n",
    "##Midterm change start\n",
    "def mutation_mod(pool):\n",
    "    temp = []\n",
    "    count = 0;\n",
    "    for network in pool:\n",
    "        child_weights = []\n",
    "        \n",
    "        for layer in network.layers:\n",
    "            child_weights.append(layer.get_weights()[0])\n",
    "        \n",
    "        \n",
    "        mut = random.uniform(0, 1)\n",
    "        if count < 10 and mut < 0.3:\n",
    "            for x in range(0,2):\n",
    "                child_weights[x] *= random.randint(0,5)\n",
    "        elif mut > 0.3:\n",
    "            for x in range(0,2):\n",
    "                child_weights[x] *= random.randint(0,5)\n",
    "                \n",
    "        child = NeuralNetwork(child_weights)\n",
    "        temp.append(child)\n",
    "        \n",
    "    return temp\n",
    "##Midterm change end\n",
    "\n",
    "def dynamic_crossover(network1, network2):\n",
    "    network1_weights = []\n",
    "    network2_weights = []\n",
    "    child_weights = []\n",
    "    for layer in network1.layers:\n",
    "        network1_weights.append(layer.get_weights()[0])\n",
    "\n",
    "    for layer in network2.layers:\n",
    "        network2_weights.append(layer.get_weights()[0])\n",
    "\n",
    "    for i in range(0, len(network1_weights)):\n",
    "        split = random.randint(0, np.shape(network1_weights[i])[1]-1)\n",
    "        for j in range(split, np.shape(network1_weights[i])[1]-1):\n",
    "            network1_weights[i][:, j] = network2_weights[i][:, j]\n",
    "\n",
    "        child_weights.append(network1_weights[i])\n",
    "        \n",
    "    child = NeuralNetwork(child_weights)\n",
    "    return child"
   ]
  },
  {
   "cell_type": "code",
   "execution_count": 43,
   "metadata": {
    "scrolled": true
   },
   "outputs": [
    {
     "name": "stdout",
     "output_type": "stream",
     "text": [
      "Generation:  1\n",
      "Max Fitness:  0.017744078793089972\n",
      "Generation:  2\n",
      "Generation:  3\n",
      "Max Fitness:  0.023113735872110783\n",
      "Generation:  4\n",
      "Generation:  5\n",
      "Max Fitness:  0.026282273937709853\n",
      "Generation:  6\n",
      "Max Fitness:  0.02640455973013842\n",
      "Max Fitness:  0.02666196852243364\n",
      "Max Fitness:  0.02739230119464221\n",
      "Generation:  7\n",
      "Max Fitness:  0.02853192559074912\n",
      "Generation:  8\n",
      "Generation:  9\n",
      "Generation:  10\n",
      "Generation:  11\n",
      "Generation:  12\n",
      "Generation:  13\n",
      "Generation:  14\n",
      "Generation:  15\n",
      "Epoch 1/10\n",
      "227/227 [==============================] - 0s 548us/step - loss: 171.5218 - accuracy: 0.6960\n",
      "Epoch 2/10\n",
      "227/227 [==============================] - 0s 111us/step - loss: 171.3048 - accuracy: 0.6960\n",
      "Epoch 3/10\n",
      "227/227 [==============================] - 0s 121us/step - loss: 171.1592 - accuracy: 0.6960\n",
      "Epoch 4/10\n",
      "227/227 [==============================] - 0s 122us/step - loss: 171.0100 - accuracy: 0.6960\n",
      "Epoch 5/10\n",
      "227/227 [==============================] - 0s 107us/step - loss: 170.8752 - accuracy: 0.6960\n",
      "Epoch 6/10\n",
      "227/227 [==============================] - 0s 110us/step - loss: 170.7373 - accuracy: 0.6960\n",
      "Epoch 7/10\n",
      "227/227 [==============================] - 0s 130us/step - loss: 170.5999 - accuracy: 0.6916\n",
      "Epoch 8/10\n",
      "227/227 [==============================] - 0s 103us/step - loss: 170.4655 - accuracy: 0.6916\n",
      "Epoch 9/10\n",
      "227/227 [==============================] - 0s 110us/step - loss: 170.3183 - accuracy: 0.6916\n",
      "Epoch 10/10\n",
      "227/227 [==============================] - 0s 102us/step - loss: 170.1962 - accuracy: 0.6916\n",
      "Test Accuracy: 0.70\n"
     ]
    }
   ],
   "source": [
    "networks = []\n",
    "pool = []\n",
    "generation = 0\n",
    "n = 20\n",
    "\n",
    "##Midterm change\n",
    "N1 = y_train[y_train == 0].shape[0]\n",
    "N2 = y_train[y_train == 1].shape[0]\n",
    "##Midterm change end\n",
    "\n",
    "\n",
    "for i in range(0, n):\n",
    "    networks.append(NeuralNetwork())\n",
    "    \n",
    "max_fitness = 0\n",
    "\n",
    "optimal_weights = []\n",
    "\n",
    "while max_fitness < .8 and generation<15:\n",
    "    \n",
    "    generation += 1\n",
    "    print('Generation: ', generation)\n",
    "\n",
    "    for network in networks:\n",
    "        network.forward_propagation(X_train, y_train)\n",
    "        pool.append(network)\n",
    "\n",
    "    networks.clear()\n",
    "    \n",
    "##Midterm change start\n",
    "    pool = sorted(pool, key=lambda x: x.fitness)\n",
    "    pool.reverse()\n",
    "    mutatedPool = mutation_mod(pool)\n",
    "    pool.clear()\n",
    "    \n",
    "    for network in mutatedPool:\n",
    "        network.forward_propagation(X_train, y_train)\n",
    "        pool.append(network)\n",
    "    \n",
    "    pool = sorted(pool, key=lambda x: x.fitness)\n",
    "    pool.reverse()\n",
    "##Midterm change end\n",
    "\n",
    "    for i in range(0,5):\n",
    "        networks.append(pool[i])\n",
    "        \n",
    "    for i in range(0, len(pool)):\n",
    "        if pool[i].fitness > max_fitness:\n",
    "            max_fitness = pool[i].fitness\n",
    "            print('Max Fitness: ', max_fitness)\n",
    "            optimal_weights = []\n",
    "            for layer in pool[i].layers:\n",
    "                optimal_weights.append(layer.get_weights()[0])\n",
    "\n",
    "    for i in range(0, 5):\n",
    "        for j in range(0, 2):\n",
    "            temp = dynamic_crossover(pool[i], random.choice(pool))\n",
    "            networks.append(temp)\n",
    "\n",
    "    \n",
    "network = NeuralNetwork(optimal_weights)\n",
    "network.compile_train(10)\n",
    "\n",
    "y_hat = network.predict(X_test)\n",
    "print('Test Accuracy: %.2f' % accuracy_score(y_test, y_hat.round()))"
   ]
  },
  {
   "cell_type": "code",
   "execution_count": null,
   "metadata": {},
   "outputs": [],
   "source": []
  },
  {
   "cell_type": "code",
   "execution_count": null,
   "metadata": {},
   "outputs": [],
   "source": []
  },
  {
   "cell_type": "code",
   "execution_count": null,
   "metadata": {},
   "outputs": [],
   "source": []
  },
  {
   "cell_type": "code",
   "execution_count": null,
   "metadata": {},
   "outputs": [],
   "source": []
  },
  {
   "cell_type": "code",
   "execution_count": null,
   "metadata": {},
   "outputs": [],
   "source": []
  },
  {
   "cell_type": "code",
   "execution_count": null,
   "metadata": {},
   "outputs": [],
   "source": []
  },
  {
   "cell_type": "code",
   "execution_count": null,
   "metadata": {},
   "outputs": [],
   "source": []
  },
  {
   "cell_type": "code",
   "execution_count": null,
   "metadata": {},
   "outputs": [],
   "source": []
  },
  {
   "cell_type": "code",
   "execution_count": null,
   "metadata": {},
   "outputs": [],
   "source": []
  },
  {
   "cell_type": "code",
   "execution_count": null,
   "metadata": {},
   "outputs": [],
   "source": []
  },
  {
   "cell_type": "code",
   "execution_count": null,
   "metadata": {},
   "outputs": [],
   "source": []
  }
 ],
 "metadata": {
  "kernelspec": {
   "display_name": "Python 3",
   "language": "python",
   "name": "python3"
  },
  "language_info": {
   "codemirror_mode": {
    "name": "ipython",
    "version": 3
   },
   "file_extension": ".py",
   "mimetype": "text/x-python",
   "name": "python",
   "nbconvert_exporter": "python",
   "pygments_lexer": "ipython3",
   "version": "3.7.4"
  }
 },
 "nbformat": 4,
 "nbformat_minor": 4
}
